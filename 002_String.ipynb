{
 "cells": [
  {
   "cell_type": "markdown",
   "metadata": {},
   "source": [
    "# String"
   ]
  },
  {
   "cell_type": "markdown",
   "metadata": {},
   "source": [
    "## Basics"
   ]
  },
  {
   "cell_type": "code",
   "execution_count": 17,
   "metadata": {},
   "outputs": [
    {
     "name": "stdout",
     "output_type": "stream",
     "text": [
      "Hello world!\n",
      "Let's go.\n",
      "Let's go.\n",
      "\\user\n",
      "Hello World!\r\n",
      "How are you?\n"
     ]
    }
   ],
   "source": [
    "str = 'Hello world!'\n",
    "print(str)\n",
    "\n",
    "str = \"Let's go.\"\n",
    "print(str)\n",
    "\n",
    "# use \"\\\" symbol\n",
    "str = 'Let\\'s go.'\n",
    "print(str)\n",
    "\n",
    "str = '\\\\user'\n",
    "print(str)\n",
    "\n",
    "# Windows: \\n\n",
    "# Linux: \\r\\n\n",
    "str = \"Hello World!\\r\\nHow are you?\"\n",
    "print(str)"
   ]
  },
  {
   "cell_type": "markdown",
   "metadata": {},
   "source": [
    "## String format\n",
    "* use \"%\"\n",
    "    * %d: int\n",
    "    * %s: string\n",
    "* format() **Recommend**"
   ]
  },
  {
   "cell_type": "code",
   "execution_count": 19,
   "metadata": {
    "scrolled": true
   },
   "outputs": [
    {
     "name": "stdout",
     "output_type": "stream",
     "text": [
      "Hello, TT.\n"
     ]
    }
   ],
   "source": [
    "str = 'Hello, %s.'\n",
    "print(str%'TT')"
   ]
  },
  {
   "cell_type": "code",
   "execution_count": 20,
   "metadata": {},
   "outputs": [
    {
     "name": "stdout",
     "output_type": "stream",
     "text": [
      "I am 18 years old.\n"
     ]
    }
   ],
   "source": [
    "str = 'I am %d years old.'\n",
    "print(str%18)"
   ]
  },
  {
   "cell_type": "code",
   "execution_count": 24,
   "metadata": {},
   "outputs": [
    {
     "name": "stdout",
     "output_type": "stream",
     "text": [
      "I am Gary, I am 20 years old.\n"
     ]
    }
   ],
   "source": [
    "str = 'I am %s, I am %d years old.'\n",
    "print(str%('Gary',20))"
   ]
  },
  {
   "cell_type": "code",
   "execution_count": 25,
   "metadata": {},
   "outputs": [
    {
     "name": "stdout",
     "output_type": "stream",
     "text": [
      "I am Kitty\n"
     ]
    }
   ],
   "source": [
    "str = 'I am {}'.format(\"Kitty\")\n",
    "print(str)"
   ]
  },
  {
   "cell_type": "code",
   "execution_count": 26,
   "metadata": {},
   "outputs": [
    {
     "name": "stdout",
     "output_type": "stream",
     "text": [
      "I am from Japan, my name is Sam and 20 old, I love Japan.\n"
     ]
    }
   ],
   "source": [
    "str = 'I am from {0}, my name is {1} and {2} old, I love {0}.'.format(\"Japan\", \"Sam\", 20)\n",
    "print(str)"
   ]
  }
 ],
 "metadata": {
  "kernelspec": {
   "display_name": "Python 3",
   "language": "python",
   "name": "python3"
  },
  "language_info": {
   "codemirror_mode": {
    "name": "ipython",
    "version": 3
   },
   "file_extension": ".py",
   "mimetype": "text/x-python",
   "name": "python",
   "nbconvert_exporter": "python",
   "pygments_lexer": "ipython3",
   "version": "3.7.1"
  }
 },
 "nbformat": 4,
 "nbformat_minor": 2
}
