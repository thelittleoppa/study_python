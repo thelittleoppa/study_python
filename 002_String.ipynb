{
 "cells": [
  {
   "cell_type": "markdown",
   "metadata": {},
   "source": [
    "# String"
   ]
  },
  {
   "cell_type": "markdown",
   "metadata": {},
   "source": [
    "## Basics"
   ]
  },
  {
   "cell_type": "code",
   "execution_count": 27,
   "metadata": {},
   "outputs": [
    {
     "name": "stdout",
     "output_type": "stream",
     "text": [
      "Hello world!\n"
     ]
    }
   ],
   "source": [
    "str = 'Hello world!'\n",
    "print(str)"
   ]
  },
  {
   "cell_type": "code",
   "execution_count": 28,
   "metadata": {},
   "outputs": [
    {
     "name": "stdout",
     "output_type": "stream",
     "text": [
      "Let's go.\n"
     ]
    }
   ],
   "source": [
    "str = \"Let's go.\"\n",
    "print(str)"
   ]
  },
  {
   "cell_type": "markdown",
   "metadata": {},
   "source": [
    "#### use \"\\\\\" symbol"
   ]
  },
  {
   "cell_type": "code",
   "execution_count": 29,
   "metadata": {},
   "outputs": [
    {
     "name": "stdout",
     "output_type": "stream",
     "text": [
      "Let's go.\n"
     ]
    }
   ],
   "source": [
    "str = 'Let\\'s go.'\n",
    "print(str)"
   ]
  },
  {
   "cell_type": "code",
   "execution_count": 30,
   "metadata": {},
   "outputs": [
    {
     "name": "stdout",
     "output_type": "stream",
     "text": [
      "\\user\n"
     ]
    }
   ],
   "source": [
    "str = '\\\\user'\n",
    "print(str)"
   ]
  },
  {
   "cell_type": "markdown",
   "metadata": {},
   "source": [
    "#### Adding Whitespace to Strings with Tabs or Newlines"
   ]
  },
  {
   "cell_type": "code",
   "execution_count": 33,
   "metadata": {},
   "outputs": [
    {
     "name": "stdout",
     "output_type": "stream",
     "text": [
      "\tHello.\n"
     ]
    }
   ],
   "source": [
    "# Tabs: \\t\n",
    "str = '\\tHello.'\n",
    "print(str)"
   ]
  },
  {
   "cell_type": "code",
   "execution_count": 31,
   "metadata": {},
   "outputs": [
    {
     "name": "stdout",
     "output_type": "stream",
     "text": [
      "Hello World!\r\n",
      "How are you?\n"
     ]
    }
   ],
   "source": [
    "# Windows: \\n\n",
    "# Linux: \\r\\n\n",
    "str = \"Hello World!\\r\\nHow are you?\"\n",
    "print(str)"
   ]
  },
  {
   "cell_type": "markdown",
   "metadata": {},
   "source": [
    "## String format\n",
    "* use \"%\"\n",
    "    * %d: int\n",
    "    * %s: string\n",
    "* format() **Recommend**"
   ]
  },
  {
   "cell_type": "code",
   "execution_count": 19,
   "metadata": {
    "scrolled": true
   },
   "outputs": [
    {
     "name": "stdout",
     "output_type": "stream",
     "text": [
      "Hello, TT.\n"
     ]
    }
   ],
   "source": [
    "str = 'Hello, %s.'\n",
    "print(str%'TT')"
   ]
  },
  {
   "cell_type": "code",
   "execution_count": 20,
   "metadata": {},
   "outputs": [
    {
     "name": "stdout",
     "output_type": "stream",
     "text": [
      "I am 18 years old.\n"
     ]
    }
   ],
   "source": [
    "str = 'I am %d years old.'\n",
    "print(str%18)"
   ]
  },
  {
   "cell_type": "code",
   "execution_count": 24,
   "metadata": {},
   "outputs": [
    {
     "name": "stdout",
     "output_type": "stream",
     "text": [
      "I am Gary, I am 20 years old.\n"
     ]
    }
   ],
   "source": [
    "str = 'I am %s, I am %d years old.'\n",
    "print(str%('Gary',20))"
   ]
  },
  {
   "cell_type": "code",
   "execution_count": 25,
   "metadata": {},
   "outputs": [
    {
     "name": "stdout",
     "output_type": "stream",
     "text": [
      "I am Kitty\n"
     ]
    }
   ],
   "source": [
    "str = 'I am {}'.format(\"Kitty\")\n",
    "print(str)"
   ]
  },
  {
   "cell_type": "code",
   "execution_count": 34,
   "metadata": {},
   "outputs": [
    {
     "name": "stdout",
     "output_type": "stream",
     "text": [
      "I am from Japan, my name is Honda and 20 old, I love Japan.\n"
     ]
    }
   ],
   "source": [
    "str = 'I am from {0}, my name is {1} and {2} old, I love {0}.'.format(\"Japan\", \"Honda\", 20)\n",
    "print(str)"
   ]
  },
  {
   "cell_type": "markdown",
   "metadata": {},
   "source": [
    "---"
   ]
  },
  {
   "cell_type": "code",
   "execution_count": 2,
   "metadata": {},
   "outputs": [
    {
     "name": "stdout",
     "output_type": "stream",
     "text": [
      "HelloWorld\n"
     ]
    }
   ],
   "source": [
    "str1 = \"Hello\"\n",
    "str2 = \"World\"\n",
    "print(str1 + str2)"
   ]
  },
  {
   "cell_type": "code",
   "execution_count": 11,
   "metadata": {},
   "outputs": [
    {
     "name": "stdout",
     "output_type": "stream",
     "text": [
      "B\n",
      "s\n",
      "NN - Breaking\n",
      "CNN - Breaking News, Latest News and Videos\n"
     ]
    }
   ],
   "source": [
    "str = \"CNN - Breaking News, Latest News and Videos\"\n",
    "print(str[6])\n",
    "print(str[-1])\n",
    "print(str[1:14])\n",
    "print(str[:])"
   ]
  },
  {
   "cell_type": "code",
   "execution_count": 13,
   "metadata": {},
   "outputs": [
    {
     "name": "stdout",
     "output_type": "stream",
     "text": [
      "Cnn - breaking news, latest news and videos\n"
     ]
    }
   ],
   "source": [
    "# Make the first character have upper case and the rest lower case.\n",
    "cstr = str.capitalize()\n",
    "print(cstr)"
   ]
  },
  {
   "cell_type": "code",
   "execution_count": 14,
   "metadata": {},
   "outputs": [
    {
     "name": "stdout",
     "output_type": "stream",
     "text": [
      "Cnn - Breaking News, Latest News And Videos\n"
     ]
    }
   ],
   "source": [
    "# Words start with uppercased characters and all remaining cased characters have lower case.\n",
    "print(cstr.title())"
   ]
  },
  {
   "cell_type": "code",
   "execution_count": 15,
   "metadata": {},
   "outputs": [
    {
     "name": "stdout",
     "output_type": "stream",
     "text": [
      "CNN - BREAKING NEWS, LATEST NEWS AND VIDEOS\n"
     ]
    }
   ],
   "source": [
    "# Return a copy of the string converted to uppercase.\n",
    "print(str.upper())"
   ]
  },
  {
   "cell_type": "code",
   "execution_count": 16,
   "metadata": {},
   "outputs": [
    {
     "name": "stdout",
     "output_type": "stream",
     "text": [
      "cnn - breaking news, latest news and videos\n"
     ]
    }
   ],
   "source": [
    "# Return a copy of the string converted to lowercase.\n",
    "print(str.lower())"
   ]
  },
  {
   "cell_type": "code",
   "execution_count": 18,
   "metadata": {},
   "outputs": [
    {
     "name": "stdout",
     "output_type": "stream",
     "text": [
      "cnn - bREAKING nEWS, lATEST nEWS AND vIDEOS\n"
     ]
    }
   ],
   "source": [
    "# Convert uppercase characters to lowercase and lowercase characters to uppercase.\n",
    "print(str.swapcase())"
   ]
  },
  {
   "cell_type": "code",
   "execution_count": 83,
   "metadata": {},
   "outputs": [
    {
     "name": "stdout",
     "output_type": "stream",
     "text": [
      "   CNN - Breaking News, Latest News and Videos   \n",
      "CNN - Breaking News, Latest News and Videos\n"
     ]
    }
   ],
   "source": [
    "# Return a copy of the string with leading and trailing whitespace remove.\n",
    "# If chars is given and not None, remove characters in chars instead.\n",
    "print(\"   CNN - Breaking News, Latest News and Videos   \")\n",
    "print(\"   CNN - Breaking News, Latest News and Videos   \".strip())"
   ]
  },
  {
   "cell_type": "code",
   "execution_count": null,
   "metadata": {},
   "outputs": [],
   "source": [
    "# lstrip"
   ]
  },
  {
   "cell_type": "code",
   "execution_count": null,
   "metadata": {},
   "outputs": [],
   "source": [
    "# rstrip"
   ]
  },
  {
   "cell_type": "code",
   "execution_count": 27,
   "metadata": {},
   "outputs": [
    {
     "name": "stdout",
     "output_type": "stream",
     "text": [
      "['CNN', '-', 'Breaking', 'News,', 'Latest', 'News', 'and', 'Videos']\n",
      "['CNN ', ' Breaking News, Latest News and Videos']\n",
      "['CNN', '-', 'Breaking', 'News, Latest News and Videos']\n"
     ]
    }
   ],
   "source": [
    "# Return a list of the words in the string, using sep as the delimiter string.\n",
    "# sep\n",
    "#     The delimiter according which to split the string.\n",
    "#     None (the default value) means split according to any whitespace,\n",
    "#     and discard empty strings from the result.\n",
    "# maxsplit\n",
    "#     Maximum number of splits to do.\n",
    "#     -1 (the default value) means no limit.\n",
    "print(str.split())\n",
    "print(str.split(sep=\"-\"))\n",
    "print(str.split(maxsplit=3))"
   ]
  },
  {
   "cell_type": "code",
   "execution_count": 81,
   "metadata": {},
   "outputs": [
    {
     "name": "stdout",
     "output_type": "stream",
     "text": [
      "CNN*-*Breaking*News,*Latest*News*and*Videos\n"
     ]
    }
   ],
   "source": [
    "# \n",
    "# \n",
    "# \n",
    "strlist = ['CNN', '-', 'Breaking', 'News,', 'Latest', 'News', 'and', 'Videos']\n",
    "print(\"*\".join(strlist))"
   ]
  },
  {
   "cell_type": "code",
   "execution_count": null,
   "metadata": {},
   "outputs": [],
   "source": [
    "# ljust"
   ]
  },
  {
   "cell_type": "code",
   "execution_count": null,
   "metadata": {},
   "outputs": [],
   "source": [
    "# center"
   ]
  },
  {
   "cell_type": "code",
   "execution_count": null,
   "metadata": {},
   "outputs": [],
   "source": [
    "# rjust"
   ]
  },
  {
   "cell_type": "code",
   "execution_count": null,
   "metadata": {},
   "outputs": [],
   "source": [
    "# zfill"
   ]
  },
  {
   "cell_type": "code",
   "execution_count": null,
   "metadata": {},
   "outputs": [],
   "source": [
    "# maketrans()"
   ]
  },
  {
   "cell_type": "code",
   "execution_count": null,
   "metadata": {},
   "outputs": [],
   "source": [
    "# translate()"
   ]
  },
  {
   "cell_type": "code",
   "execution_count": 17,
   "metadata": {},
   "outputs": [
    {
     "name": "stdout",
     "output_type": "stream",
     "text": [
      "43\n"
     ]
    }
   ],
   "source": [
    "Count string lenght.\n",
    "print(len(str))"
   ]
  },
  {
   "cell_type": "code",
   "execution_count": 32,
   "metadata": {},
   "outputs": [
    {
     "name": "stdout",
     "output_type": "stream",
     "text": [
      "1\n",
      "15\n",
      "-1\n"
     ]
    }
   ],
   "source": [
    "# S.find(sub[, start[, end]]) -> int\n",
    "\n",
    "#     Return the lowest index in S where substring sub is found,\n",
    "#     such that sub is contained within S[start:end].  Optional\n",
    "#     arguments start and end are interpreted as in slice notation.\n",
    "\n",
    "#     Return -1 on failure.\n",
    "\n",
    "print(str.find(\"N\"))\n",
    "print(str.find(\"N\", 3))\n",
    "print(str.find(\"Z\"))"
   ]
  },
  {
   "cell_type": "code",
   "execution_count": 33,
   "metadata": {},
   "outputs": [
    {
     "name": "stdout",
     "output_type": "stream",
     "text": [
      "9\n"
     ]
    },
    {
     "ename": "ValueError",
     "evalue": "substring not found",
     "output_type": "error",
     "traceback": [
      "\u001b[0;31m---------------------------------------------------------------------------\u001b[0m",
      "\u001b[0;31mValueError\u001b[0m                                Traceback (most recent call last)",
      "\u001b[0;32m<ipython-input-33-65d3adea3341>\u001b[0m in \u001b[0;36m<module>\u001b[0;34m\u001b[0m\n\u001b[1;32m      8\u001b[0m \u001b[0;34m\u001b[0m\u001b[0m\n\u001b[1;32m      9\u001b[0m \u001b[0mprint\u001b[0m\u001b[0;34m(\u001b[0m\u001b[0mstr\u001b[0m\u001b[0;34m.\u001b[0m\u001b[0mindex\u001b[0m\u001b[0;34m(\u001b[0m\u001b[0;34m\"a\"\u001b[0m\u001b[0;34m)\u001b[0m\u001b[0;34m)\u001b[0m\u001b[0;34m\u001b[0m\u001b[0;34m\u001b[0m\u001b[0m\n\u001b[0;32m---> 10\u001b[0;31m \u001b[0mprint\u001b[0m\u001b[0;34m(\u001b[0m\u001b[0mstr\u001b[0m\u001b[0;34m.\u001b[0m\u001b[0mindex\u001b[0m\u001b[0;34m(\u001b[0m\u001b[0;34m\"Z\"\u001b[0m\u001b[0;34m)\u001b[0m\u001b[0;34m)\u001b[0m\u001b[0;34m\u001b[0m\u001b[0;34m\u001b[0m\u001b[0m\n\u001b[0m",
      "\u001b[0;31mValueError\u001b[0m: substring not found"
     ]
    }
   ],
   "source": [
    "# S.index(sub[, start[, end]]) -> int\n",
    "\n",
    "#     Return the lowest index in S where substring sub is found,\n",
    "#     such that sub is contained within S[start:end].  Optional\n",
    "#     arguments start and end are interpreted as in slice notation.\n",
    "\n",
    "#     Raises ValueError when the substring is not found.\n",
    "\n",
    "print(str.index(\"a\"))\n",
    "print(str.index(\"Z\"))"
   ]
  },
  {
   "cell_type": "code",
   "execution_count": 34,
   "metadata": {},
   "outputs": [
    {
     "name": "stdout",
     "output_type": "stream",
     "text": [
      "4\n"
     ]
    }
   ],
   "source": [
    "# Return the number of non-overlapping occurrences of substring sub in \n",
    "# string S[start:end].  Optional arguments start and end are\n",
    "# interpreted as in slice notation.\n",
    "print(str.count(\"N\"))"
   ]
  },
  {
   "cell_type": "code",
   "execution_count": 38,
   "metadata": {},
   "outputs": [
    {
     "name": "stdout",
     "output_type": "stream",
     "text": [
      "True\n",
      "False\n"
     ]
    }
   ],
   "source": [
    "# Return True if string starts with the specified prefix, False otherwise.\n",
    "#     With optional start, test S beginning at that position.\n",
    "#     With optional end, stop comparing S at that position.\n",
    "#     prefix can also be a tuple of strings to try.\n",
    "print(str.startswith(\"C\"))\n",
    "print(str.startswith(\"c\"))"
   ]
  },
  {
   "cell_type": "code",
   "execution_count": 39,
   "metadata": {},
   "outputs": [
    {
     "name": "stdout",
     "output_type": "stream",
     "text": [
      "False\n",
      "True\n"
     ]
    }
   ],
   "source": [
    "# Return True if S ends with the specified suffix, False otherwise.\n",
    "#     With optional start, test S beginning at that position.\n",
    "#     With optional end, stop comparing S at that position.\n",
    "#     suffix can also be a tuple of strings to try.\n",
    "print(str.endswith(\"S\"))\n",
    "print(str.endswith(\"s\"))"
   ]
  },
  {
   "cell_type": "code",
   "execution_count": 46,
   "metadata": {},
   "outputs": [
    {
     "name": "stdout",
     "output_type": "stream",
     "text": [
      "False\n",
      "True\n"
     ]
    }
   ],
   "source": [
    "# Return True if the string is an uppercase string, False otherwise.\n",
    "    \n",
    "#     A string is uppercase if all cased characters in the string are uppercase and\n",
    "#     there is at least one cased character in the string.\n",
    "print(str.isupper())\n",
    "print(\"HELLO\".isupper())"
   ]
  },
  {
   "cell_type": "code",
   "execution_count": 50,
   "metadata": {},
   "outputs": [
    {
     "name": "stdout",
     "output_type": "stream",
     "text": [
      "False\n",
      "cnn - breaking news, latest news and videos\n",
      "True\n"
     ]
    }
   ],
   "source": [
    "# Return True if the string is a lowercase string, False otherwise.\n",
    "\n",
    "#     A string is lowercase if all cased characters in the string are lowercase and\n",
    "#     there is at least one cased character in the string.\n",
    "print(str.islower())\n",
    "print(str.lower())\n",
    "print(str.lower().islower())"
   ]
  },
  {
   "cell_type": "code",
   "execution_count": 61,
   "metadata": {},
   "outputs": [
    {
     "name": "stdout",
     "output_type": "stream",
     "text": [
      "True\n",
      "False\n",
      "True\n"
     ]
    }
   ],
   "source": [
    "# Return True if the string is a whitespace string, False otherwise.\n",
    "\n",
    "#     A string is whitespace if all characters in the string are whitespace and there\n",
    "#     is at least one character in the string.\n",
    "print(\" \".isspace())\n",
    "print(\"  Hello\".isspace())\n",
    "print(\"    \".isspace())"
   ]
  },
  {
   "cell_type": "code",
   "execution_count": 63,
   "metadata": {},
   "outputs": [
    {
     "name": "stdout",
     "output_type": "stream",
     "text": [
      "True\n",
      "False\n"
     ]
    }
   ],
   "source": [
    "print(\"abcde\".isalpha())\n",
    "print(\"ab cde\".isalpha())"
   ]
  },
  {
   "cell_type": "code",
   "execution_count": 72,
   "metadata": {},
   "outputs": [
    {
     "name": "stdout",
     "output_type": "stream",
     "text": [
      "True\n",
      "False\n",
      "True\n"
     ]
    }
   ],
   "source": [
    "print(\"8964\".isalnum())\n",
    "print(\"Today is 2019 year\".isalnum())\n",
    "print(\"Todayis2019year\".isalnum())\n"
   ]
  },
  {
   "cell_type": "code",
   "execution_count": 79,
   "metadata": {},
   "outputs": [
    {
     "name": "stdout",
     "output_type": "stream",
     "text": [
      "True\n",
      "False\n",
      "False\n",
      "False\n"
     ]
    }
   ],
   "source": [
    "print(\"8964\".isdigit())\n",
    "print(\"12.1\".isdigit())\n",
    "print(\"Today is 2019 year\".isdigit())\n",
    "print(\"Todayis2019year\".isdigit())"
   ]
  },
  {
   "cell_type": "code",
   "execution_count": null,
   "metadata": {},
   "outputs": [],
   "source": []
  }
 ],
 "metadata": {
  "kernelspec": {
   "display_name": "Python 3",
   "language": "python",
   "name": "python3"
  },
  "language_info": {
   "codemirror_mode": {
    "name": "ipython",
    "version": 3
   },
   "file_extension": ".py",
   "mimetype": "text/x-python",
   "name": "python",
   "nbconvert_exporter": "python",
   "pygments_lexer": "ipython3",
   "version": "3.7.1"
  }
 },
 "nbformat": 4,
 "nbformat_minor": 2
}
